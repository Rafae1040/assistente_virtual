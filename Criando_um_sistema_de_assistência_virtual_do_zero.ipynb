{
  "nbformat": 4,
  "nbformat_minor": 0,
  "metadata": {
    "colab": {
      "provenance": [],
      "authorship_tag": "ABX9TyMu8fn0xtcQhgiIqmScHeFc",
      "include_colab_link": true
    },
    "kernelspec": {
      "name": "python3",
      "display_name": "Python 3"
    },
    "language_info": {
      "name": "python"
    }
  },
  "cells": [
    {
      "cell_type": "markdown",
      "metadata": {
        "id": "view-in-github",
        "colab_type": "text"
      },
      "source": [
        "<a href=\"https://colab.research.google.com/github/Rafae1040/assistente_virtual/blob/main/Criando_um_sistema_de_assist%C3%AAncia_virtual_do_zero.ipynb\" target=\"_parent\"><img src=\"https://colab.research.google.com/assets/colab-badge.svg\" alt=\"Open In Colab\"/></a>"
      ]
    },
    {
      "cell_type": "code",
      "source": [
        "!pip install gTTS"
      ],
      "metadata": {
        "colab": {
          "base_uri": "https://localhost:8080/"
        },
        "id": "UNLm7XCxiw0S",
        "outputId": "9345cd52-ec25-4250-e513-d12c33509b1f"
      },
      "execution_count": 1,
      "outputs": [
        {
          "output_type": "stream",
          "name": "stdout",
          "text": [
            "Collecting gTTS\n",
            "  Downloading gTTS-2.5.4-py3-none-any.whl.metadata (4.1 kB)\n",
            "Requirement already satisfied: requests<3,>=2.27 in /usr/local/lib/python3.11/dist-packages (from gTTS) (2.32.3)\n",
            "Requirement already satisfied: click<8.2,>=7.1 in /usr/local/lib/python3.11/dist-packages (from gTTS) (8.1.8)\n",
            "Requirement already satisfied: charset-normalizer<4,>=2 in /usr/local/lib/python3.11/dist-packages (from requests<3,>=2.27->gTTS) (3.4.1)\n",
            "Requirement already satisfied: idna<4,>=2.5 in /usr/local/lib/python3.11/dist-packages (from requests<3,>=2.27->gTTS) (3.10)\n",
            "Requirement already satisfied: urllib3<3,>=1.21.1 in /usr/local/lib/python3.11/dist-packages (from requests<3,>=2.27->gTTS) (2.3.0)\n",
            "Requirement already satisfied: certifi>=2017.4.17 in /usr/local/lib/python3.11/dist-packages (from requests<3,>=2.27->gTTS) (2025.1.31)\n",
            "Downloading gTTS-2.5.4-py3-none-any.whl (29 kB)\n",
            "Installing collected packages: gTTS\n",
            "Successfully installed gTTS-2.5.4\n"
          ]
        }
      ]
    },
    {
      "cell_type": "code",
      "source": [
        "# Instalar a biblioteca gTTS !pip install gTTS\n",
        "from gtts import gTTS\n",
        "\n",
        "text_to_say = \"God bless you\"\n",
        "\n",
        "language = \"en\"\n",
        "\n",
        "gtts_object = gTTS(text = text_to_say,\n",
        "                  lang = language,\n",
        "                  slow = False)\n",
        "\n",
        "gtts_object.save(\"/content/gtts.wav\")\n",
        "\n",
        "from IPython.display import Audio\n",
        "\n",
        "Audio(\"/content/gtts.wav\")"
      ],
      "metadata": {
        "colab": {
          "base_uri": "https://localhost:8080/",
          "height": 75
        },
        "id": "YDlHS-Xli6Iy",
        "outputId": "2fa954c7-5421-484a-aec0-b5829da758d9"
      },
      "execution_count": 4,
      "outputs": [
        {
          "output_type": "execute_result",
          "data": {
            "text/plain": [
              "<IPython.lib.display.Audio object>"
            ],
            "text/html": [
              "\n",
              "                <audio  controls=\"controls\" >\n",
              "                    <source src=\"data:audio/x-wav;base64,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\" type=\"audio/x-wav\" />\n",
              "                    Your browser does not support the audio element.\n",
              "                </audio>\n",
              "              "
            ]
          },
          "metadata": {},
          "execution_count": 4
        }
      ]
    },
    {
      "cell_type": "code",
      "source": [
        "from gtts import gTTS\n",
        "\n",
        "text_to_say = \"Dio vi benedica\"\n",
        "\n",
        "language = \"it\"\n",
        "\n",
        "gtts_object = gTTS(text = text_to_say,\n",
        "                  lang = language,\n",
        "                  slow = False)\n",
        "\n",
        "gtts_object.save(\"/content/gtts.wav\")\n",
        "\n",
        "from IPython.display import Audio\n",
        "\n",
        "Audio(\"/content/gtts.wav\")"
      ],
      "metadata": {
        "colab": {
          "base_uri": "https://localhost:8080/",
          "height": 75
        },
        "id": "egm97e-gjzum",
        "outputId": "150c8c84-f9b2-4daf-d166-4b9b92253b95"
      },
      "execution_count": 5,
      "outputs": [
        {
          "output_type": "execute_result",
          "data": {
            "text/plain": [
              "<IPython.lib.display.Audio object>"
            ],
            "text/html": [
              "\n",
              "                <audio  controls=\"controls\" >\n",
              "                    <source src=\"data:audio/x-wav;base64,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\" type=\"audio/x-wav\" />\n",
              "                    Your browser does not support the audio element.\n",
              "                </audio>\n",
              "              "
            ]
          },
          "metadata": {},
          "execution_count": 5
        }
      ]
    },
    {
      "cell_type": "markdown",
      "source": [],
      "metadata": {
        "id": "DusfMw-7knSv"
      }
    },
    {
      "cell_type": "code",
      "source": [
        "!pip install SpeechRecognition"
      ],
      "metadata": {
        "colab": {
          "base_uri": "https://localhost:8080/"
        },
        "id": "IDGt5M_hk1Ss",
        "outputId": "4fe113d5-4364-47f1-d031-4fccd94ba456"
      },
      "execution_count": 7,
      "outputs": [
        {
          "output_type": "stream",
          "name": "stdout",
          "text": [
            "Collecting SpeechRecognition\n",
            "  Downloading speechrecognition-3.14.2-py3-none-any.whl.metadata (30 kB)\n",
            "Requirement already satisfied: typing-extensions in /usr/local/lib/python3.11/dist-packages (from SpeechRecognition) (4.12.2)\n",
            "Downloading speechrecognition-3.14.2-py3-none-any.whl (32.9 MB)\n",
            "\u001b[2K   \u001b[90m━━━━━━━━━━━━━━━━━━━━━━━━━━━━━━━━━━━━━━━━\u001b[0m \u001b[32m32.9/32.9 MB\u001b[0m \u001b[31m24.4 MB/s\u001b[0m eta \u001b[36m0:00:00\u001b[0m\n",
            "\u001b[?25hInstalling collected packages: SpeechRecognition\n",
            "Successfully installed SpeechRecognition-3.14.2\n"
          ]
        }
      ]
    },
    {
      "cell_type": "code",
      "source": [
        "!pip install playsound"
      ],
      "metadata": {
        "colab": {
          "base_uri": "https://localhost:8080/"
        },
        "id": "O_z8kb16lOSZ",
        "outputId": "5bb3f566-fe8b-4f2d-b0ed-1d88d1a344be"
      },
      "execution_count": 9,
      "outputs": [
        {
          "output_type": "stream",
          "name": "stdout",
          "text": [
            "Collecting playsound\n",
            "  Downloading playsound-1.3.0.tar.gz (7.7 kB)\n",
            "  Preparing metadata (setup.py) ... \u001b[?25l\u001b[?25hdone\n",
            "Building wheels for collected packages: playsound\n",
            "  Building wheel for playsound (setup.py) ... \u001b[?25l\u001b[?25hdone\n",
            "  Created wheel for playsound: filename=playsound-1.3.0-py3-none-any.whl size=7020 sha256=226b5b0c470e6743730610a8bc5caff8a24893c5ec55fa7a7d1ce749ebb090ef\n",
            "  Stored in directory: /root/.cache/pip/wheels/50/98/42/62753a9e1fb97579a0ce2f84f7db4c21c09d03bb2091e6cef4\n",
            "Successfully built playsound\n",
            "Installing collected packages: playsound\n",
            "Successfully installed playsound-1.3.0\n"
          ]
        }
      ]
    },
    {
      "cell_type": "code",
      "source": [
        "#import section\n",
        "import speech_recognition as sr\n",
        "from gtts import gTTS\n",
        "import os\n",
        "from datetime import datetime\n",
        "import playsound\n",
        "import pyjokes\n",
        "import wikipedia\n",
        "import pyaudio\n",
        "import webbrowser\n",
        "import winshell\n",
        "from pygame import mixer\n",
        "\n",
        "\n",
        "#get mic audio\n",
        "def get_audio():\n",
        "    r = sr.Recognizer()\n",
        "    with sr.Microphone() as source:\n",
        "        r.pause_threshold = 1\n",
        "        # wait for a second to let the recognizer adjust the\n",
        "        # energy threshold based on the surrounding noise level\n",
        "        r.adjust_for_ambient_noise(source, duration=1)\n",
        "        audio = r.listen(source)\n",
        "        said = \"\"\n",
        "        try:\n",
        "            said = r.recognize_google(audio)\n",
        "            print(said)\n",
        "        except sr.UnknownValueError:\n",
        "            speak(\"Sorry, I did not get that.\")\n",
        "        except sr.RequestError:\n",
        "            speak(\"Sorry, the service is not available\")\n",
        "    return said.lower()\n",
        "\n",
        "#speak converted audio to text\n",
        "def speak(text):\n",
        "    tts = gTTS(text=text, lang='en')\n",
        "    filename = \"voice.mp3\"\n",
        "    try:\n",
        "        os.remove(filename)\n",
        "    except OSError:\n",
        "        pass\n",
        "    tts.save(filename)\n",
        "    playsound.playsound(filename)\n",
        "\n",
        "#function to respond to commands\n",
        "def respond(text):\n",
        "    print(\"Text from get audio \" + text)\n",
        "    if 'youtube' in text:\n",
        "        speak(\"What do you want to search for?\")\n",
        "        keyword = get_audio()\n",
        "        if keyword!= '':\n",
        "            url = f\"https://www.youtube.com/results?search_query={keyword}\"\n",
        "            webbrowser.get().open(url)\n",
        "            speak(f\"Here is what I have found for {keyword} on youtube\")\n",
        "    elif 'search' in text:\n",
        "        speak(\"What do you want to search for?\")\n",
        "        query = get_audio()\n",
        "        if query !='':\n",
        "            result = wikipedia.summary(query, sentences=3)\n",
        "            speak(\"According to wikipedia\")\n",
        "            print(result)\n",
        "            speak(result)\n",
        "    elif 'joke' in text:\n",
        "        speak(pyjokes.get_joke())\n",
        "    elif 'empty recycle bin' in text:\n",
        "        winshell.recycle_bin().empty(confirm=False, show_progress=False, sound=True)\n",
        "        speak(\"Recycle bin emptied\")\n",
        "    elif 'what time' in text:\n",
        "        strTime = datetime.today().strftime(\"%H:%M %p\")\n",
        "        print(strTime)\n",
        "        speak(strTime)\n",
        "    elif 'play music' in text or 'play song' in text:\n",
        "        speak(\"Now playing...\")\n",
        "        music_dir = \"C:\\\\Users\\\\UserName\\\\Downloads\\\\Music\\\\\" #add your music directory here..\n",
        "        songs = os.listdir(music_dir)\n",
        "        #counter = 0\n",
        "        print(songs)\n",
        "        playmusic(music_dir + \"\\\\\" + songs[0])\n",
        "    elif 'stop music' in text:\n",
        "        speak(\"Stopping playback.\")\n",
        "        stopmusic()\n",
        "    elif 'exit' in text:\n",
        "        speak(\"Goodbye, till next time\")\n",
        "        exit()\n",
        "#play music\n",
        "def playmusic(song):\n",
        "    mixer.init()\n",
        "    mixer.music.load(song)\n",
        "    mixer.music.play()\n",
        "#stop music\n",
        "def stopmusic():\n",
        "    mixer.music.stop()\n",
        "\n",
        "#let's try it\n",
        "#text = get_audio()\n",
        "#speak(text)\n",
        "while True:\n",
        "    print(\"I am listening...\")\n",
        "    text = get_audio()\n",
        "    respond(text)"
      ],
      "metadata": {
        "colab": {
          "base_uri": "https://localhost:8080/",
          "height": 421
        },
        "id": "t8qTprzCkmeB",
        "outputId": "4a0a1743-0df1-492b-dc93-8b7f9c0dda1e"
      },
      "execution_count": 10,
      "outputs": [
        {
          "output_type": "stream",
          "name": "stderr",
          "text": [
            "WARNING:playsound:playsound is relying on another python subprocess. Please use `pip install pygobject` if you want playsound to run more efficiently.\n"
          ]
        },
        {
          "output_type": "error",
          "ename": "ModuleNotFoundError",
          "evalue": "No module named 'pyjokes'",
          "traceback": [
            "\u001b[0;31m---------------------------------------------------------------------------\u001b[0m",
            "\u001b[0;31mModuleNotFoundError\u001b[0m                       Traceback (most recent call last)",
            "\u001b[0;32m<ipython-input-10-670f6a1e8bbb>\u001b[0m in \u001b[0;36m<cell line: 0>\u001b[0;34m()\u001b[0m\n\u001b[1;32m      5\u001b[0m \u001b[0;32mfrom\u001b[0m \u001b[0mdatetime\u001b[0m \u001b[0;32mimport\u001b[0m \u001b[0mdatetime\u001b[0m\u001b[0;34m\u001b[0m\u001b[0;34m\u001b[0m\u001b[0m\n\u001b[1;32m      6\u001b[0m \u001b[0;32mimport\u001b[0m \u001b[0mplaysound\u001b[0m\u001b[0;34m\u001b[0m\u001b[0;34m\u001b[0m\u001b[0m\n\u001b[0;32m----> 7\u001b[0;31m \u001b[0;32mimport\u001b[0m \u001b[0mpyjokes\u001b[0m\u001b[0;34m\u001b[0m\u001b[0;34m\u001b[0m\u001b[0m\n\u001b[0m\u001b[1;32m      8\u001b[0m \u001b[0;32mimport\u001b[0m \u001b[0mwikipedia\u001b[0m\u001b[0;34m\u001b[0m\u001b[0;34m\u001b[0m\u001b[0m\n\u001b[1;32m      9\u001b[0m \u001b[0;32mimport\u001b[0m \u001b[0mpyaudio\u001b[0m\u001b[0;34m\u001b[0m\u001b[0;34m\u001b[0m\u001b[0m\n",
            "\u001b[0;31mModuleNotFoundError\u001b[0m: No module named 'pyjokes'",
            "",
            "\u001b[0;31m---------------------------------------------------------------------------\u001b[0;32m\nNOTE: If your import is failing due to a missing package, you can\nmanually install dependencies using either !pip or !apt.\n\nTo view examples of installing some common dependencies, click the\n\"Open Examples\" button below.\n\u001b[0;31m---------------------------------------------------------------------------\u001b[0m\n"
          ],
          "errorDetails": {
            "actions": [
              {
                "action": "open_url",
                "actionText": "Open Examples",
                "url": "/notebooks/snippets/importing_libraries.ipynb"
              }
            ]
          }
        }
      ]
    }
  ]
}